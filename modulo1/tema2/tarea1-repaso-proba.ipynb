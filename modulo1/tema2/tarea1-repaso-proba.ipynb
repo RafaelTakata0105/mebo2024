{
 "cells": [
  {
   "cell_type": "markdown",
   "metadata": {},
   "source": [
    "# Tarea 1. Repaso de teoría de probabilidad\n",
    "\n",
    "<img style=\"float: right; margin: 0px 0px 15px 15px;\" src=\"https://storage.needpix.com/rsynced_images/bayesian-2889576_1280.png\" width=\"200px\" height=\"180px\" />\n",
    "\n",
    "Esta constituye la primera tarea del curso. Las tareas están pensadas para que afiances los conocimientos vistos en clase, repases la clase y debas darle una segunda leida. Incluso revisar otro material.\n",
    "\n",
    "Esta primera tarea contiene ejercicios para que repases conceptos básicos de teoría de probabilidad.\n",
    "\n",
    "Por favor, intenta ser lo más explícit@ posible, y en lo posible, apóyate de la escritura matemática con $\\LaTeX$.\n",
    "\n",
    "Recuerda además que ante cualquier duda, me puedes contactar al correo esjimenezro@iteso.mx.\n",
    "\n",
    "<p style=\"text-align:right;\"> Imagen recuperada de: https://storage.needpix.com/rsynced_images/bayesian-2889576_1280.png.</p>\n",
    "\n",
    "___"
   ]
  },
  {
   "cell_type": "markdown",
   "metadata": {},
   "source": [
    "## 1. \n",
    "\n",
    "Supongamos que una prueba para la COVID-19 tiene una precisión del 95%. Esto es, si el paciente está infectado, entonces el resultado de la prueba será positivo con probabilidad de 0.95, y si el paciente NO está infectado, el resutado de la prueba será negativo con probabilidad de 0.95.\n",
    "\n",
    "Además, supongamos que la probabilidad de estar infectado es de 0.017 (1.7%).\n",
    "\n",
    "Ahora, suponga que una persona tuvo un resultado de prueba positivo.\n",
    "\n",
    "1. ¿Cuál es la probabilidad de que esta persona esté infectada en efecto?\n",
    "\n",
    "2. ¿Cuál es la probabilidad de que no esté infectada?"
   ]
  },
  {
   "cell_type": "markdown",
   "metadata": {},
   "source": [
    "$$\n",
    "p(P) = p(P|I)*p(I) + p(NP|N) * p(N)\n",
    "$$\n",
    "\n",
    "$$\n",
    "p(I|P) = \\frac{p(P|I)*p(I)}{p(P)}\n",
    "$$\n",
    "\n",
    "$$\n",
    "p(N|P) = 1 - P (I|P)\n",
    "$$"
   ]
  },
  {
   "cell_type": "markdown",
   "metadata": {},
   "source": [
    "1. ¿Cuál es la probabilidad de que esta persona esté infectada en efecto?\n",
    "\n",
    "$$\n",
    "p(P) = ((0.95) * (0.017)) + ((0.05) * (0.983))\n",
    "$$\n",
    "\n",
    "$$\n",
    "p(P) = 0.01615 + 0.04915 = 0.0653\n",
    "$$\n",
    "\n",
    "$$\n",
    "p(I|P) = \\frac{(0.95) * (0.017)}{0.0653}\n",
    "$$\n",
    "\n",
    "$$\n",
    "p(I|P) = 0.24732\n",
    "$$"
   ]
  },
  {
   "cell_type": "markdown",
   "metadata": {},
   "source": [
    "2. ¿Cuál es la probabilidad de que no esté infectada?\n",
    "\n",
    "$$\n",
    "p(N|P) = 1 - p(I | P) = 1 - 0.24732\n",
    "$$\n",
    "\n",
    "$$\n",
    "p(N|P) = 0.75267\n",
    "$$"
   ]
  },
  {
   "cell_type": "markdown",
   "metadata": {},
   "source": [
    "## 2. \n",
    "\n",
    "(Ejercicio 1.3 Pattern Recognition and Machine Learning, by Christopher M. Bishop.) \n",
    "\n",
    "Supongamos que tenemos tres cajas: $r$ (roja), $a$ (azul), y $v$ (verde). Los contenidos de las cajas son:\n",
    "\n",
    "- $r$: 3 manzanas, 4 naranjas, y 3 limas.\n",
    "- $a$: 1 manzanas, 1 naranjas, y 0 limas.\n",
    "- $v$: 3 manzanas, 3 naranjas, y 4 limas\n",
    "\n",
    "Si la caja se elige aleatoriamente con probabilidades $p(r) = 0.2$, $p(a) = 0.2$, $p(v) = 0.6$, y una fruta se selecciona de la caja elegida, con igual probabilidad de seleccionar cualquier elemento de la caja, \n",
    "\n",
    "1. ¿Cuál es la probabilida de seleccionar una manzana?\n",
    "2. Si observamos que la fruta seleccionada es una naranja, ¿Cuál es la probabilidad de que provenga de la caja verde?"
   ]
  },
  {
   "cell_type": "markdown",
   "metadata": {},
   "source": [
    "$$\n",
    "p(m) = p(m|r)*p(r) + p(m|a)*p(a) + p(m|v)*p(v)\n",
    "$$\n",
    "\n",
    "$$\n",
    "p(v|n) = \\frac{p(n|v)*p(v)}{p(n)}\n",
    "$$\n",
    "\n",
    "$$\n",
    "p(n) = p(n|r)*p(r) + p(n|a)*p(a) + p(n|v)*p(v)\n",
    "$$"
   ]
  },
  {
   "cell_type": "markdown",
   "metadata": {},
   "source": [
    "1. ¿Cuál es la probabilida de seleccionar una manzana?\n",
    "\n",
    "$$\n",
    "p(m) = (\\frac{3}{10} * 0.2) + (\\frac{1}{2} * 0.2) + (\\frac{3}{10} * 0.6)\n",
    "$$\n",
    "\n",
    "$$\n",
    "p(m) = 0.34\n",
    "$$"
   ]
  },
  {
   "cell_type": "markdown",
   "metadata": {},
   "source": [
    "2. Si observamos que la fruta seleccionada es una naranja, ¿Cuál es la probabilidad de que provenga de la caja verde?\n",
    "\n",
    "$$\n",
    "p(n) = (\\frac{4}{10} * 0.2) + (\\frac{1}{2} * 0.2) + (\\frac{3}{10} * 0.6)\n",
    "$$\n",
    "\n",
    "$$\n",
    "p(n) = 0.36\n",
    "$$\n",
    "\n",
    "$$\n",
    "p(v|n) = \\frac{0.3 * 0.6}{0.36}\n",
    "$$\n",
    "\n",
    "$$\n",
    "p(v|n) = 0.5\n",
    "$$"
   ]
  },
  {
   "cell_type": "markdown",
   "metadata": {},
   "source": [
    "## 3.\n",
    "\n",
    "Leer la **sección 1.2.4. (The Gaussian distribution)** del libro Pattern Recognition and Machine Learning, by Christopher M. Bishop, las páginas 24 y 25 . A partir de ello:\n",
    "\n",
    "1. ¿Cuáles son los parámetros que caracterizan una distribución Gaussiana?, ¿Qué significan?\n",
    "   \n",
    "2. Define una V.A. normal usando `scipy.stats.norm`, con media y varianza que prefieras:\n",
    "   \n",
    "   ```python\n",
    "   x = stats.norm(loc=mu, scale=sigma)\n",
    "   ```\n",
    "   \n",
    "   Luego, muestrea 10, 100, 1000, y 10000 veces esta V.A. usando el método `rvs`:\n",
    "   \n",
    "   ```python\n",
    "   samples = x.rvs(n)\n",
    "   ```\n",
    "   \n",
    "   Finalmente, toma el promedio simple de cada uno de los conjuntos de muestras:\n",
    "   \n",
    "   ```python\n",
    "   samples.mean()\n",
    "   ```\n",
    "   \n",
    "   ¿Qué puedes concluir del efecto de la cantidad de las muestras sobre este promedio?"
   ]
  },
  {
   "cell_type": "markdown",
   "metadata": {},
   "source": []
  },
  {
   "cell_type": "markdown",
   "metadata": {},
   "source": []
  },
  {
   "cell_type": "markdown",
   "metadata": {},
   "source": []
  },
  {
   "cell_type": "markdown",
   "metadata": {},
   "source": [
    "# 4.\n",
    "\n",
    "Es común que haya cierta confusión en el significado del valor esperado. Un significado que le podemos dar a este valor, viene dado por la [ley de los grandes números](https://www.khanacademy.org/math/statistics-probability/random-variables-stats-library/expected-value-lib/v/law-of-large-numbers), que básicamente dice que:\n",
    "\n",
    "$$\n",
    "\\mathbb{E}_p[f] \\to \\frac{1}{N} \\sum_{i=1}^N f(x_i), \\text{ cuando } N \\to \\infty\n",
    "$$"
   ]
  },
  {
   "cell_type": "markdown",
   "metadata": {},
   "source": [
    "Para convencerte de esto, en este ejercicio simularás la tirada de un dado justo:\n",
    "\n",
    "1. Definimos la VA $X$ como el valor que muestra el dado cuando cae, es decir $\\mathrm{Val}(X) = \\{1, 2, 3, 4, 5, 6\\}$.\n",
    "2. Como el dado es justo $P(X=i)=\\frac{1}{|\\mathrm{Val}(X)|}=\\frac{1}{6}$ para todo $i=1,\\dots,6$.\n",
    "\n",
    "¿Cuál es el valor esperado $E[X]$?"
   ]
  },
  {
   "cell_type": "code",
   "execution_count": 49,
   "metadata": {},
   "outputs": [],
   "source": [
    "from scipy import stats\n",
    "import numpy as np\n",
    "import matplotlib.pyplot as plt"
   ]
  },
  {
   "cell_type": "code",
   "execution_count": 50,
   "metadata": {},
   "outputs": [],
   "source": [
    "x = [1, 2, 3, 4, 5, 6]\n",
    "p = [1/6, 1/6, 1/6, 1/6, 1/6, 1/6]\n",
    "X = stats.rv_discrete(name='X', values=(x, p))"
   ]
  },
  {
   "cell_type": "code",
   "execution_count": 51,
   "metadata": {},
   "outputs": [
    {
     "data": {
      "text/plain": [
       "3.5"
      ]
     },
     "execution_count": 51,
     "metadata": {},
     "output_type": "execute_result"
    }
   ],
   "source": [
    "# Calcular el valor esperado teórico de la VA X\n",
    "X.expect()"
   ]
  },
  {
   "cell_type": "markdown",
   "metadata": {},
   "source": [
    "Ahora, viene el paso de simulación. \n",
    "\n",
    "1. Vas a simular por lo menos 1000 veces la tirada del dado, guardando a cada tirada el resultado obtenido.\n",
    "\n",
    "2. Vas a calcular el valor promedio de los resultados *a cada tirada*. Es decir, si los resultados en las primeras $n$ tiradas son $x_1,\\dots,x_n$, el valor promedio en la tirada $n$ es\n",
    "\n",
    "   $$\\bar{x}_n = \\frac{x_1+\\dots+x_n}{n}.$$\n",
    "\n",
    "3. Finalmente, vas a graficar los valores promedio obtenidos a cada tirada (en el eje $y$) vs. el número de tiradas (en el eje $x$). Incluir el valor esperado teórico en la gráfica. ¿Qué observas?\n",
    "\n",
    "*Ayuda: apoyarse del modulo random de numpy.*"
   ]
  },
  {
   "cell_type": "code",
   "execution_count": 52,
   "metadata": {},
   "outputs": [],
   "source": [
    "# Simular 1000 veces\n",
    "simulaciones = X.rvs(size= 1000)"
   ]
  },
  {
   "cell_type": "code",
   "execution_count": 53,
   "metadata": {},
   "outputs": [],
   "source": [
    "# Calcular el valor promedio de los resultados a cada tirada\n",
    "promedios = simulaciones.cumsum() / np.arange(1,  1001)"
   ]
  },
  {
   "cell_type": "code",
   "execution_count": 54,
   "metadata": {},
   "outputs": [
    {
     "name": "stdout",
     "output_type": "stream",
     "text": [
      "3.506\n"
     ]
    }
   ],
   "source": [
    "promedio_total = simulaciones.sum()/1000\n",
    "print(promedio_total)"
   ]
  },
  {
   "cell_type": "code",
   "execution_count": 55,
   "metadata": {},
   "outputs": [
    {
     "data": {
      "text/plain": [
       "<matplotlib.legend.Legend at 0x1ac19512a30>"
      ]
     },
     "execution_count": 55,
     "metadata": {},
     "output_type": "execute_result"
    },
    {
     "data": {
      "image/png": "[encoded data removed]",
      "text/plain": [
       "<Figure size 640x480 with 1 Axes>"
      ]
     },
     "metadata": {},
     "output_type": "display_data"
    }
   ],
   "source": [
    "plt.plot(promedios, label='Promedio muestral')\n",
    "plt.axhline(y= X.expect(), c='r', ls='--', label='Valor esperado teórico')\n",
    "plt.xlabel('Número de muestras')\n",
    "plt.ylabel('Promedio')\n",
    "plt.legend()"
   ]
  },
  {
   "cell_type": "markdown",
   "metadata": {},
   "source": [
    "# 5.\n",
    "\n",
    "[Lectura recomendada](https://ocw.mit.edu/courses/18-05-introduction-to-probability-and-statistics-spring-2022/mit18_05_s22_class06-prep-b.pdf)"
   ]
  },
  {
   "cell_type": "markdown",
   "metadata": {},
   "source": [
    "<script>\n",
    "  $(document).ready(function(){\n",
    "    $('div.prompt').hide();\n",
    "    $('div.back-to-top').hide();\n",
    "    $('nav#menubar').hide();\n",
    "    $('.breadcrumb').hide();\n",
    "    $('.hidden-print').hide();\n",
    "  });\n",
    "</script>\n",
    "\n",
    "<footer id=\"attribution\" style=\"float:right; color:#808080; background:#fff;\">\n",
    "Created with Jupyter by Esteban Jiménez Rodríguez.\n",
    "</footer>"
   ]
  }
 ],
 "metadata": {
  "kernelspec": {
   "display_name": "Python 3 (ipykernel)",
   "language": "python",
   "name": "python3"
  },
  "language_info": {
   "codemirror_mode": {
    "name": "ipython",
    "version": 3
   },
   "file_extension": ".py",
   "mimetype": "text/x-python",
   "name": "python",
   "nbconvert_exporter": "python",
   "pygments_lexer": "ipython3",
   "version": "3.9.19"
  }
 },
 "nbformat": 4,
 "nbformat_minor": 4
}
