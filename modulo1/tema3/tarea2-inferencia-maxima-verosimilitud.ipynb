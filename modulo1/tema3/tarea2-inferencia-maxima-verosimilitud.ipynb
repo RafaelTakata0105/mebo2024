{
 "cells": [
  {
   "cell_type": "markdown",
   "metadata": {},
   "source": [
    "# Tarea 2. Inferencia básica y máxima verosimilitud\n",
    "\n",
    "<img style=\"float: right; margin: 0px 0px 15px 15px;\" src=\"https://storage.needpix.com/rsynced_images/bayesian-2889576_1280.png\" width=\"200px\" height=\"180px\" />\n",
    "\n",
    "En esta segunda tarea, repasarás algunos ejercicios de inferencia en modelos probabilísticos básicos. Además, tendrás la oportunidad de mostrar como estimar los parámetros de una distribución normal. Finalmente explorarás cómo es el producto de dos densidades normales.\n",
    "\n",
    "Por favor, intenta ser lo más explícit@ posible, y en lo posible, apóyate de la escritura matemática con $\\LaTeX$.\n",
    "\n",
    "Recuerda además que ante cualquier duda, me puedes contactar al correo esjimenezro@iteso.mx.\n",
    "\n",
    "<p style=\"text-align:right;\"> Imagen recuperada de: https://storage.needpix.com/rsynced_images/bayesian-2889576_1280.png.</p>\n",
    "\n",
    "___"
   ]
  },
  {
   "cell_type": "markdown",
   "metadata": {},
   "source": [
    "## 1.\n",
    "\n",
    "Consideramos un conjunto de datos \n",
    "\n",
    "$$\n",
    "\\mathcal{D} = \\{x_1, \\dots, x_N\\}\n",
    "$$\n",
    "\n",
    "independientes e idénticamente distribuidos, los cuales suponemos que provienen de una distribución normal $\\mathcal{N}(\\mu, \\sigma^2)$.\n",
    "\n",
    "Muestre que los estimadores de máxima verosimilitud para los parámetros $\\mu$ y $\\sigma^2$ son:\n",
    "\n",
    "$$\\hat{\\mu}_{MLE} = \\frac{1}{N} \\sum_{j=1}^{N}x_j \\qquad \\text{y} \\qquad \\hat{\\sigma}_{MLE}^2 = \\frac{1}{N}\\sum_{j=1}^{N}(x_j-\\hat{\\mu}_{MLE})^2.$$"
   ]
  },
  {
   "cell_type": "markdown",
   "metadata": {},
   "source": [
    "Primero, necesitamos encontrar la función de verosimilitud para $L(\\mu)$\n",
    "\n",
    "$$\n",
    "L(\\mu) = \\prod_{j=1}^{N} f(x_i | \\mu) = \\prod_{j=1}^{N} [\\frac{1}{\\sqrt{2\\pi \\sigma^2}} \\exp\\left( -\\frac{(x_j - \\mu)^2}{2\\sigma^2} \\right)]\n",
    "$$\n",
    "\n",
    "Simplificando queda como: \n",
    "\n",
    "$$\n",
    "L(\\mu) = \\frac{1}{(2\\pi \\sigma^2)^{N/2}} \\exp\\left( -\\frac{1}{2\\sigma^2} \\sum_{j=1}^{N} (x_j - \\mu)^2 \\right)\n",
    "$$\n",
    "Dado que el conjunto de datos se encuentra idénticamente distribuidos y son independientes, para buscar el estimador de máxima verosimilitud de $\\mu$, derivamos la log-verosimilitud con respecto de $\\mu$ e igualamos a 0. \n",
    "\n",
    "Antes de esto, encontramos el logaritmo de la verosimilitud:"
   ]
  },
  {
   "cell_type": "markdown",
   "metadata": {},
   "source": [
    "$$\n",
    " -\\frac{N}{2} \\log(2\\pi\\sigma^2) - \\frac{1}{2\\sigma^2} \\sum_{j=1}^{N} (x_j - \\mu)^2 * \\log \\exp\n",
    "$$\n",
    "$$\n",
    " -\\frac{N}{2} \\log(2\\pi) - \\frac{N}{2} \\log(\\sigma^2) - \\frac{1}{2\\sigma^2} \\sum_{j=1}^{N} (x_j - \\mu)^2\n",
    "$$\n"
   ]
  },
  {
   "cell_type": "markdown",
   "metadata": {},
   "source": [
    "Derivamos con respecto a $\\mu$ e igualamos a 0:\n",
    "\n",
    "$$\n",
    "\\frac{\\partial \\ell}{\\partial \\mu} = \\frac{1}{\\sigma^2} \\sum_{j=1}^{N} (x_j - \\mu)\n",
    "$$\n",
    "$$\n",
    "0 = \\frac{1}{\\sigma^2} \\sum_{j=1}^{N} (x_j - \\mu)\n",
    "$$\n",
    "$$\n",
    "0 = \\sum_{j=1}^{N} (x_j - \\mu)\n",
    "$$\n",
    "$$\n",
    "\\sum_{j=1}^{N}x_j = N\\mu\n",
    "$$\n",
    "$$\n",
    "\\frac{\\sum_{j=1}^{N}x_j}{N} = \\mu\n",
    "$$"
   ]
  },
  {
   "cell_type": "markdown",
   "metadata": {},
   "source": [
    "Una vez demostrado $\\mu$, proseguiremos con $\\sigma^2$. \n",
    "\n",
    "Para esto derivamos la función de log-verosimilitud con respecto de $\\sigma^2$\n",
    "\n",
    "$$\n",
    "\\frac{\\partial \\ell}{\\partial \\sigma^2} = -\\frac{N}{2\\sigma^2} + \\frac{1}{2\\sigma^4} \\sum_{j=1}^{N} (x_j - \\mu)^2\n",
    "$$\n",
    "\n",
    "Igualamos a 0:\n",
    "\n",
    "$$\n",
    "0 = -\\frac{N}{2\\sigma^2} + \\frac{1}{2\\sigma^4} \\sum_{j=1}^{N} (x_j - \\mu)^2\n",
    "$$\n",
    "\n",
    "Multiplicamos por $2\\sigma^2$\n",
    "$$\n",
    "0 = - N\\sigma^2 + \\sum_{j=1}^{N} (x_j - \\mu)^2\n",
    "$$\n",
    "\n",
    "$$\n",
    "N\\sigma^2 =  \\sum_{j=1}^{N} (x_j - \\mu)^2\n",
    "$$\n",
    "\n",
    "$$\n",
    "\\sigma^2 =  \\frac{\\sum_{j=1}^{N} (x_j - \\mu)^2}{N}\n",
    "$$"
   ]
  },
  {
   "cell_type": "markdown",
   "metadata": {},
   "source": [
    "Por lo tanto, quedo demostrado que los estimadores de máxima verosimilitud para los parámetros $\\mu$ y $\\sigma^2$ son:\n",
    "\n",
    "$$\\hat{\\mu}_{MLE} = \\frac{1}{N} \\sum_{j=1}^{N}x_j \\qquad \\text{y} \\qquad \\hat{\\sigma}_{MLE}^2 = \\frac{1}{N}\\sum_{j=1}^{N}(x_j-\\hat{\\mu}_{MLE})^2.$$"
   ]
  },
  {
   "cell_type": "markdown",
   "metadata": {},
   "source": [
    "## 2.\n",
    "\n",
    "Consideramos un conjunto de datos \n",
    "\n",
    "$$\n",
    "\\mathcal{D} = \\{x_1, \\dots, x_N\\}\n",
    "$$\n",
    "\n",
    "independientes e idénticamente distribuidos, los cuales suponemos que provienen de una distribución Gamma, con la siguiente pdf\n",
    "\n",
    "$$\n",
    "p(x | a) = \\frac{a^5}{4!} x^4 e^{-ax}\n",
    "$$\n",
    "\n",
    "Encuentre el estimador de máxima verosimilitud para $a$."
   ]
  },
  {
   "cell_type": "markdown",
   "metadata": {},
   "source": [
    "Primero, debemos encontrar la función de verosimilitud: \n",
    "$$\n",
    "\\mathcal{L}(a | \\mathcal{D}) = \\prod_{i=1}^{N} p(x_i | a) = \\prod_{i=1}^{N} \\left( \\frac{a^5}{4!} x_i^4 e^{-a x_i} \\right)\n",
    "$$\n",
    "\n",
    "Simplificamos:\n",
    "\n",
    "$$\n",
    "\\mathcal{L}(a | \\mathcal{D}) = \\left( \\frac{a^5}{4!} \\right)^N \\prod_{i=1}^{N} x_i^4 \\prod_{i=1}^{N} e^{-a x_i}\n",
    "$$"
   ]
  },
  {
   "cell_type": "markdown",
   "metadata": {},
   "source": [
    "Log-verosimilitud:\n",
    "\n",
    "$$\n",
    "N \\log \\left( \\frac{a^5}{4!} \\right) + \\sum_{i=1}^{N} \\log(x_i^4) - a \\sum_{i=1}^{N} x_i\n",
    "$$\n",
    "\n",
    "Derivamos con respecto a $a$ e igualamos a 0:\n",
    "$$\n",
    "N \\left( \\frac{5}{a} \\right) - \\sum_{i=1}^{N} x_i = 0\n",
    "$$\n",
    "$$\n",
    "N \\left( \\frac{5}{a} \\right) = \\sum_{i=1}^{N} x_i\n",
    "$$\n",
    "\n",
    "Multiplicamos ambos lados por $a$:\n",
    "$$\n",
    "5N = a\\sum_{i=1}^{N} x_i\n",
    "$$\n",
    "\n",
    "Divisimos todo entre $\\sum_{i=1}^{N} x_i$:\n",
    "$$\n",
    "\\frac{5N}{\\sum_{i=1}^{N} x_i} = a\n",
    "$$"
   ]
  },
  {
   "cell_type": "markdown",
   "metadata": {},
   "source": [
    "La función que maximiza la verosimilitud es: $\\frac{5N}{\\sum_{i=1}^{N} x_i} = a$"
   ]
  },
  {
   "cell_type": "markdown",
   "metadata": {},
   "source": [
    "<script>\n",
    "  $(document).ready(function(){\n",
    "    $('div.prompt').hide();\n",
    "    $('div.back-to-top').hide();\n",
    "    $('nav#menubar').hide();\n",
    "    $('.breadcrumb').hide();\n",
    "    $('.hidden-print').hide();\n",
    "  });\n",
    "</script>\n",
    "\n",
    "<footer id=\"attribution\" style=\"float:right; color:#808080; background:#fff;\">\n",
    "Created with Jupyter by Esteban Jiménez Rodríguez.\n",
    "</footer>"
   ]
  }
 ],
 "metadata": {
  "kernelspec": {
   "display_name": "Python 3 (ipykernel)",
   "language": "python",
   "name": "python3"
  },
  "language_info": {
   "codemirror_mode": {
    "name": "ipython",
    "version": 3
   },
   "file_extension": ".py",
   "mimetype": "text/x-python",
   "name": "python",
   "nbconvert_exporter": "python",
   "pygments_lexer": "ipython3",
   "version": "3.10.12"
  }
 },
 "nbformat": 4,
 "nbformat_minor": 4
}
